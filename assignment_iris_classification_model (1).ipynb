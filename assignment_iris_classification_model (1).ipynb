{
 "cells": [
  {
   "cell_type": "code",
   "execution_count": 1,
   "id": "01aebe69",
   "metadata": {},
   "outputs": [],
   "source": [
    "import numpy as np\n",
    "import pandas as pd\n",
    "import matplotlib.pyplot as plt\n",
    "import seaborn as sns\n",
    "from sklearn.linear_model import LinearRegression"
   ]
  },
  {
   "cell_type": "code",
   "execution_count": 2,
   "id": "dafeb7a4",
   "metadata": {},
   "outputs": [],
   "source": [
    "# Reading the dataset in python Environment"
   ]
  },
  {
   "cell_type": "code",
   "execution_count": 3,
   "id": "5689ca5f",
   "metadata": {},
   "outputs": [],
   "source": [
    "iris_data=pd.read_excel(\"iris_3.xls\")"
   ]
  },
  {
   "cell_type": "code",
   "execution_count": 4,
   "id": "c1855325",
   "metadata": {},
   "outputs": [
    {
     "data": {
      "text/html": [
       "<div>\n",
       "<style scoped>\n",
       "    .dataframe tbody tr th:only-of-type {\n",
       "        vertical-align: middle;\n",
       "    }\n",
       "\n",
       "    .dataframe tbody tr th {\n",
       "        vertical-align: top;\n",
       "    }\n",
       "\n",
       "    .dataframe thead th {\n",
       "        text-align: right;\n",
       "    }\n",
       "</style>\n",
       "<table border=\"1\" class=\"dataframe\">\n",
       "  <thead>\n",
       "    <tr style=\"text-align: right;\">\n",
       "      <th></th>\n",
       "      <th>SL</th>\n",
       "      <th>SW</th>\n",
       "      <th>PL</th>\n",
       "      <th>PW</th>\n",
       "      <th>Classification</th>\n",
       "    </tr>\n",
       "  </thead>\n",
       "  <tbody>\n",
       "    <tr>\n",
       "      <th>0</th>\n",
       "      <td>5.1</td>\n",
       "      <td>3.5</td>\n",
       "      <td>1.4</td>\n",
       "      <td>0.2</td>\n",
       "      <td>Iris-setosa</td>\n",
       "    </tr>\n",
       "    <tr>\n",
       "      <th>1</th>\n",
       "      <td>4.9</td>\n",
       "      <td>3.0</td>\n",
       "      <td>1.4</td>\n",
       "      <td>0.2</td>\n",
       "      <td>Iris-setosa</td>\n",
       "    </tr>\n",
       "    <tr>\n",
       "      <th>2</th>\n",
       "      <td>NaN</td>\n",
       "      <td>3.2</td>\n",
       "      <td>1.3</td>\n",
       "      <td>0.2</td>\n",
       "      <td>Iris-setosa</td>\n",
       "    </tr>\n",
       "    <tr>\n",
       "      <th>3</th>\n",
       "      <td>4.6</td>\n",
       "      <td>3.1</td>\n",
       "      <td>1.5</td>\n",
       "      <td>0.2</td>\n",
       "      <td>Iris-setosa</td>\n",
       "    </tr>\n",
       "    <tr>\n",
       "      <th>4</th>\n",
       "      <td>5.0</td>\n",
       "      <td>3.6</td>\n",
       "      <td>1.4</td>\n",
       "      <td>0.2</td>\n",
       "      <td>Iris-setosa</td>\n",
       "    </tr>\n",
       "  </tbody>\n",
       "</table>\n",
       "</div>"
      ],
      "text/plain": [
       "    SL   SW   PL   PW Classification\n",
       "0  5.1  3.5  1.4  0.2    Iris-setosa\n",
       "1  4.9  3.0  1.4  0.2    Iris-setosa\n",
       "2  NaN  3.2  1.3  0.2    Iris-setosa\n",
       "3  4.6  3.1  1.5  0.2    Iris-setosa\n",
       "4  5.0  3.6  1.4  0.2    Iris-setosa"
      ]
     },
     "execution_count": 4,
     "metadata": {},
     "output_type": "execute_result"
    }
   ],
   "source": [
    "iris_data.head()"
   ]
  },
  {
   "cell_type": "code",
   "execution_count": 5,
   "id": "81418826",
   "metadata": {},
   "outputs": [],
   "source": [
    "# it has \" Nan\" values , so we need so preprocessing "
   ]
  },
  {
   "cell_type": "code",
   "execution_count": 6,
   "id": "74503de5",
   "metadata": {},
   "outputs": [
    {
     "data": {
      "text/plain": [
       "(150, 5)"
      ]
     },
     "execution_count": 6,
     "metadata": {},
     "output_type": "execute_result"
    }
   ],
   "source": [
    "iris_data.shape  # gives the shape osf the dataset, No. of rows and columns"
   ]
  },
  {
   "cell_type": "code",
   "execution_count": 7,
   "id": "a6846915",
   "metadata": {},
   "outputs": [],
   "source": [
    "# we are taking the information os the  given dataset "
   ]
  },
  {
   "cell_type": "code",
   "execution_count": 8,
   "id": "35ca88ce",
   "metadata": {},
   "outputs": [
    {
     "name": "stdout",
     "output_type": "stream",
     "text": [
      "<class 'pandas.core.frame.DataFrame'>\n",
      "RangeIndex: 150 entries, 0 to 149\n",
      "Data columns (total 5 columns):\n",
      " #   Column          Non-Null Count  Dtype  \n",
      "---  ------          --------------  -----  \n",
      " 0   SL              143 non-null    float64\n",
      " 1   SW              144 non-null    float64\n",
      " 2   PL              144 non-null    float64\n",
      " 3   PW              150 non-null    float64\n",
      " 4   Classification  150 non-null    object \n",
      "dtypes: float64(4), object(1)\n",
      "memory usage: 6.0+ KB\n"
     ]
    }
   ],
   "source": [
    "iris_data.info()           "
   ]
  },
  {
   "cell_type": "code",
   "execution_count": 9,
   "id": "8b04e795",
   "metadata": {},
   "outputs": [],
   "source": [
    "# checking  for the null values"
   ]
  },
  {
   "cell_type": "code",
   "execution_count": 10,
   "id": "a1e62cc6",
   "metadata": {},
   "outputs": [
    {
     "data": {
      "text/plain": [
       "SL                7\n",
       "SW                6\n",
       "PL                6\n",
       "PW                0\n",
       "Classification    0\n",
       "dtype: int64"
      ]
     },
     "execution_count": 10,
     "metadata": {},
     "output_type": "execute_result"
    }
   ],
   "source": [
    "iris_data.isnull().sum()"
   ]
  },
  {
   "cell_type": "code",
   "execution_count": 11,
   "id": "73718e2f",
   "metadata": {},
   "outputs": [],
   "source": [
    "#SL has 7 null values,Sw has 6 and PL has 6"
   ]
  },
  {
   "cell_type": "code",
   "execution_count": 12,
   "id": "b2e46e12",
   "metadata": {},
   "outputs": [],
   "source": [
    "# we will findout the datatype of the given dataset"
   ]
  },
  {
   "cell_type": "code",
   "execution_count": 13,
   "id": "f8cfa473",
   "metadata": {},
   "outputs": [
    {
     "data": {
      "text/plain": [
       "SL                float64\n",
       "SW                float64\n",
       "PL                float64\n",
       "PW                float64\n",
       "Classification     object\n",
       "dtype: object"
      ]
     },
     "execution_count": 13,
     "metadata": {},
     "output_type": "execute_result"
    }
   ],
   "source": [
    "iris_data.dtypes"
   ]
  },
  {
   "cell_type": "code",
   "execution_count": 14,
   "id": "5e9e470a",
   "metadata": {},
   "outputs": [],
   "source": [
    "# SL,SW,PL,PW has float values. But classificatioin has categorical value"
   ]
  },
  {
   "cell_type": "code",
   "execution_count": 15,
   "id": "def9c58f",
   "metadata": {},
   "outputs": [],
   "source": [
    "# so we are finding out how many unique values are there in Classification column"
   ]
  },
  {
   "cell_type": "code",
   "execution_count": 16,
   "id": "1dd288a2",
   "metadata": {},
   "outputs": [
    {
     "data": {
      "text/plain": [
       "3"
      ]
     },
     "execution_count": 16,
     "metadata": {},
     "output_type": "execute_result"
    }
   ],
   "source": [
    "iris_data['Classification'].nunique()"
   ]
  },
  {
   "cell_type": "code",
   "execution_count": 17,
   "id": "125fd96d",
   "metadata": {},
   "outputs": [],
   "source": [
    "# Classification has 3 unique values, "
   ]
  },
  {
   "cell_type": "code",
   "execution_count": 18,
   "id": "adce8174",
   "metadata": {},
   "outputs": [],
   "source": [
    "# we are finding the 3 unique values in classification"
   ]
  },
  {
   "cell_type": "code",
   "execution_count": 19,
   "id": "0ed035ad",
   "metadata": {},
   "outputs": [
    {
     "data": {
      "text/plain": [
       "array(['Iris-setosa', 'Iris-versicolor', 'Iris-virginica'], dtype=object)"
      ]
     },
     "execution_count": 19,
     "metadata": {},
     "output_type": "execute_result"
    }
   ],
   "source": [
    "iris_data['Classification'].unique()"
   ]
  },
  {
   "cell_type": "code",
   "execution_count": 20,
   "id": "d237021a",
   "metadata": {},
   "outputs": [
    {
     "data": {
      "image/png": "[encoded data removed]",
      "text/plain": [
       "<Figure size 720x360 with 4 Axes>"
      ]
     },
     "metadata": {
      "needs_background": "light"
     },
     "output_type": "display_data"
    }
   ],
   "source": [
    "freqgraph = iris_data.select_dtypes(include=['float'])\n",
    "freqgraph.hist(figsize=(10,5))\n",
    "plt.show()"
   ]
  },
  {
   "cell_type": "code",
   "execution_count": 21,
   "id": "3d96d1cb",
   "metadata": {},
   "outputs": [],
   "source": [
    "# handling the null values"
   ]
  },
  {
   "cell_type": "code",
   "execution_count": null,
   "id": "49aa52c6",
   "metadata": {},
   "outputs": [],
   "source": [
    "# finding the column name"
   ]
  },
  {
   "cell_type": "code",
   "execution_count": 22,
   "id": "30c26cb9",
   "metadata": {},
   "outputs": [
    {
     "data": {
      "text/plain": [
       "Index(['SL', 'SW', 'PL', 'PW', 'Classification'], dtype='object')"
      ]
     },
     "execution_count": 22,
     "metadata": {},
     "output_type": "execute_result"
    }
   ],
   "source": [
    "col =iris_data.columns\n",
    "col"
   ]
  },
  {
   "cell_type": "code",
   "execution_count": 23,
   "id": "4cf1793f",
   "metadata": {},
   "outputs": [],
   "source": [
    "for col in['SL', 'SW', 'PL', 'PW']:\n",
    "    iris_data[col] = iris_data[col].fillna(iris_data[col].mean())"
   ]
  },
  {
   "cell_type": "code",
   "execution_count": 24,
   "id": "d53e6e43",
   "metadata": {},
   "outputs": [
    {
     "data": {
      "text/plain": [
       "SL                0\n",
       "SW                0\n",
       "PL                0\n",
       "PW                0\n",
       "Classification    0\n",
       "dtype: int64"
      ]
     },
     "execution_count": 24,
     "metadata": {},
     "output_type": "execute_result"
    }
   ],
   "source": [
    "iris_data.isnull().sum()"
   ]
  },
  {
   "cell_type": "code",
   "execution_count": 25,
   "id": "1362caf7",
   "metadata": {},
   "outputs": [],
   "source": [
    "# there are no null values"
   ]
  },
  {
   "cell_type": "code",
   "execution_count": 26,
   "id": "6ca128fc",
   "metadata": {},
   "outputs": [],
   "source": [
    "# drawing the boxplot to check for outliers"
   ]
  },
  {
   "cell_type": "code",
   "execution_count": 27,
   "id": "a828a127",
   "metadata": {},
   "outputs": [
    {
     "data": {
      "text/plain": [
       "Text(0.5, 1.0, 'BOX plot of SL')"
      ]
     },
     "execution_count": 27,
     "metadata": {},
     "output_type": "execute_result"
    },
    {
     "data": {
      "image/png": "[encoded data removed]",
      "text/plain": [
       "<Figure size 432x288 with 1 Axes>"
      ]
     },
     "metadata": {
      "needs_background": "light"
     },
     "output_type": "display_data"
    }
   ],
   "source": [
    "plt.boxplot(iris_data['SL'])\n",
    "plt.title(\"BOX plot of SL\")"
   ]
  },
  {
   "cell_type": "code",
   "execution_count": 28,
   "id": "3ae3932d",
   "metadata": {},
   "outputs": [
    {
     "data": {
      "text/plain": [
       "Text(0.5, 1.0, 'BOX plot of SW')"
      ]
     },
     "execution_count": 28,
     "metadata": {},
     "output_type": "execute_result"
    },
    {
     "data": {
      "image/png": "[encoded data removed]",
      "text/plain": [
       "<Figure size 432x288 with 1 Axes>"
      ]
     },
     "metadata": {
      "needs_background": "light"
     },
     "output_type": "display_data"
    }
   ],
   "source": [
    "plt.boxplot(iris_data['SW'])\n",
    "plt.title(\"BOX plot of SW\")"
   ]
  },
  {
   "cell_type": "code",
   "execution_count": 29,
   "id": "167a4e0b",
   "metadata": {},
   "outputs": [],
   "source": [
    "# Managing outliers"
   ]
  },
  {
   "cell_type": "code",
   "execution_count": 30,
   "id": "9663ec93",
   "metadata": {},
   "outputs": [],
   "source": [
    "Q1 =np.percentile(iris_data['SW'],25,interpolation='midpoint')\n",
    "Q2 =np.percentile(iris_data['SW'],50,interpolation='midpoint')\n",
    "Q3 =np.percentile(iris_data['SW'],75,interpolation='midpoint')"
   ]
  },
  {
   "cell_type": "code",
   "execution_count": 31,
   "id": "b96eb8ad",
   "metadata": {},
   "outputs": [
    {
     "name": "stdout",
     "output_type": "stream",
     "text": [
      "2.8\n",
      "3.0\n",
      "3.25\n"
     ]
    }
   ],
   "source": [
    "print(Q1)\n",
    "print(Q2)\n",
    "print(Q3)"
   ]
  },
  {
   "cell_type": "code",
   "execution_count": 32,
   "id": "e50194af",
   "metadata": {},
   "outputs": [
    {
     "data": {
      "text/plain": [
       "3.0"
      ]
     },
     "execution_count": 32,
     "metadata": {},
     "output_type": "execute_result"
    }
   ],
   "source": [
    "iris_data['SW'].median()"
   ]
  },
  {
   "cell_type": "code",
   "execution_count": 33,
   "id": "d55de710",
   "metadata": {},
   "outputs": [
    {
     "name": "stdout",
     "output_type": "stream",
     "text": [
      "0.4500000000000002\n"
     ]
    }
   ],
   "source": [
    "IQR=Q3-Q1\n",
    "print(IQR)"
   ]
  },
  {
   "cell_type": "code",
   "execution_count": 34,
   "id": "b1466bd8",
   "metadata": {},
   "outputs": [],
   "source": [
    "low_lim = Q1-1.5*IQR\n",
    "up_lim = Q3+1.5*IQR"
   ]
  },
  {
   "cell_type": "code",
   "execution_count": 35,
   "id": "0cbbda16",
   "metadata": {},
   "outputs": [
    {
     "name": "stdout",
     "output_type": "stream",
     "text": [
      "2.1249999999999996\n",
      "3.9250000000000003\n"
     ]
    }
   ],
   "source": [
    "print(low_lim)\n",
    "print(up_lim)"
   ]
  },
  {
   "cell_type": "code",
   "execution_count": 36,
   "id": "623dd97b",
   "metadata": {},
   "outputs": [],
   "source": [
    "outlier =[]\n",
    "for x in iris_data['SW']:\n",
    "    if(x>up_lim) or (x<low_lim):\n",
    "        outlier.append(x)"
   ]
  },
  {
   "cell_type": "code",
   "execution_count": 37,
   "id": "bab2560d",
   "metadata": {},
   "outputs": [
    {
     "data": {
      "text/plain": [
       "[4.0, 4.4, 4.1, 4.2, 2.0]"
      ]
     },
     "execution_count": 37,
     "metadata": {},
     "output_type": "execute_result"
    }
   ],
   "source": [
    "outlier"
   ]
  },
  {
   "cell_type": "code",
   "execution_count": 38,
   "id": "dbba7601",
   "metadata": {},
   "outputs": [],
   "source": [
    "ind=iris_data['SW']>up_lim"
   ]
  },
  {
   "cell_type": "code",
   "execution_count": 39,
   "id": "eb1e11c2",
   "metadata": {},
   "outputs": [
    {
     "data": {
      "text/plain": [
       "Int64Index([14, 15, 32, 33], dtype='int64')"
      ]
     },
     "execution_count": 39,
     "metadata": {},
     "output_type": "execute_result"
    }
   ],
   "source": [
    "iris_data.loc[ind].index"
   ]
  },
  {
   "cell_type": "code",
   "execution_count": 40,
   "id": "1a41a313",
   "metadata": {},
   "outputs": [],
   "source": [
    "# to drop the outliers"
   ]
  },
  {
   "cell_type": "code",
   "execution_count": 41,
   "id": "f5ddebca",
   "metadata": {},
   "outputs": [],
   "source": [
    "#iris_data.drop([14, 15, 32, 33],inplace=True)"
   ]
  },
  {
   "cell_type": "code",
   "execution_count": 42,
   "id": "bc1b6708",
   "metadata": {},
   "outputs": [],
   "source": [
    "#it is a small set of data set ,so droping rows may effect the information"
   ]
  },
  {
   "cell_type": "code",
   "execution_count": 43,
   "id": "2a287c64",
   "metadata": {},
   "outputs": [
    {
     "data": {
      "text/html": [
       "<div>\n",
       "<style scoped>\n",
       "    .dataframe tbody tr th:only-of-type {\n",
       "        vertical-align: middle;\n",
       "    }\n",
       "\n",
       "    .dataframe tbody tr th {\n",
       "        vertical-align: top;\n",
       "    }\n",
       "\n",
       "    .dataframe thead th {\n",
       "        text-align: right;\n",
       "    }\n",
       "</style>\n",
       "<table border=\"1\" class=\"dataframe\">\n",
       "  <thead>\n",
       "    <tr style=\"text-align: right;\">\n",
       "      <th></th>\n",
       "      <th>SL</th>\n",
       "      <th>SW</th>\n",
       "      <th>PL</th>\n",
       "      <th>PW</th>\n",
       "      <th>Classification</th>\n",
       "    </tr>\n",
       "  </thead>\n",
       "  <tbody>\n",
       "    <tr>\n",
       "      <th>0</th>\n",
       "      <td>5.100000</td>\n",
       "      <td>3.5</td>\n",
       "      <td>1.4</td>\n",
       "      <td>0.2</td>\n",
       "      <td>Iris-setosa</td>\n",
       "    </tr>\n",
       "    <tr>\n",
       "      <th>1</th>\n",
       "      <td>4.900000</td>\n",
       "      <td>3.0</td>\n",
       "      <td>1.4</td>\n",
       "      <td>0.2</td>\n",
       "      <td>Iris-setosa</td>\n",
       "    </tr>\n",
       "    <tr>\n",
       "      <th>2</th>\n",
       "      <td>5.855944</td>\n",
       "      <td>3.2</td>\n",
       "      <td>1.3</td>\n",
       "      <td>0.2</td>\n",
       "      <td>Iris-setosa</td>\n",
       "    </tr>\n",
       "    <tr>\n",
       "      <th>3</th>\n",
       "      <td>4.600000</td>\n",
       "      <td>3.1</td>\n",
       "      <td>1.5</td>\n",
       "      <td>0.2</td>\n",
       "      <td>Iris-setosa</td>\n",
       "    </tr>\n",
       "    <tr>\n",
       "      <th>4</th>\n",
       "      <td>5.000000</td>\n",
       "      <td>3.6</td>\n",
       "      <td>1.4</td>\n",
       "      <td>0.2</td>\n",
       "      <td>Iris-setosa</td>\n",
       "    </tr>\n",
       "  </tbody>\n",
       "</table>\n",
       "</div>"
      ],
      "text/plain": [
       "         SL   SW   PL   PW Classification\n",
       "0  5.100000  3.5  1.4  0.2    Iris-setosa\n",
       "1  4.900000  3.0  1.4  0.2    Iris-setosa\n",
       "2  5.855944  3.2  1.3  0.2    Iris-setosa\n",
       "3  4.600000  3.1  1.5  0.2    Iris-setosa\n",
       "4  5.000000  3.6  1.4  0.2    Iris-setosa"
      ]
     },
     "execution_count": 43,
     "metadata": {},
     "output_type": "execute_result"
    }
   ],
   "source": [
    "iris_data.head()"
   ]
  },
  {
   "cell_type": "code",
   "execution_count": 44,
   "id": "0d2dfb1a",
   "metadata": {},
   "outputs": [],
   "source": [
    "# Sepal Width has outliers, we have to handle outliers"
   ]
  },
  {
   "cell_type": "code",
   "execution_count": 45,
   "id": "1f0abeec",
   "metadata": {},
   "outputs": [
    {
     "data": {
      "text/plain": [
       "Text(0.5, 1.0, 'BOX plot of PL')"
      ]
     },
     "execution_count": 45,
     "metadata": {},
     "output_type": "execute_result"
    },
    {
     "data": {
      "image/png": "[encoded data removed]",
      "text/plain": [
       "<Figure size 432x288 with 1 Axes>"
      ]
     },
     "metadata": {
      "needs_background": "light"
     },
     "output_type": "display_data"
    }
   ],
   "source": [
    "plt.boxplot(iris_data['PL'])\n",
    "plt.title(\"BOX plot of PL\")"
   ]
  },
  {
   "cell_type": "code",
   "execution_count": 46,
   "id": "f920328e",
   "metadata": {},
   "outputs": [
    {
     "data": {
      "text/plain": [
       "Text(0.5, 1.0, 'BOX plot of PW')"
      ]
     },
     "execution_count": 46,
     "metadata": {},
     "output_type": "execute_result"
    },
    {
     "data": {
      "image/png": "[encoded data removed]",
      "text/plain": [
       "<Figure size 432x288 with 1 Axes>"
      ]
     },
     "metadata": {
      "needs_background": "light"
     },
     "output_type": "display_data"
    }
   ],
   "source": [
    "plt.boxplot(iris_data['PW'])\n",
    "plt.title(\"BOX plot of PW\")"
   ]
  },
  {
   "cell_type": "code",
   "execution_count": 47,
   "id": "3eb1ba62",
   "metadata": {},
   "outputs": [],
   "source": [
    "#replace_map = {'Classification': {'Iris-setosa':1, 'Iris-versicolor':2, 'Iris-virginica': 3}}"
   ]
  },
  {
   "cell_type": "code",
   "execution_count": 48,
   "id": "02d672b5",
   "metadata": {},
   "outputs": [],
   "source": [
    "#iris_data.replace(replace_map, inplace=True)\n",
    "\n",
    "#print(iris_data.head())"
   ]
  },
  {
   "cell_type": "code",
   "execution_count": 49,
   "id": "72f484fc",
   "metadata": {},
   "outputs": [
    {
     "data": {
      "text/plain": [
       "Iris-setosa        50\n",
       "Iris-versicolor    50\n",
       "Iris-virginica     50\n",
       "Name: Classification, dtype: int64"
      ]
     },
     "execution_count": 49,
     "metadata": {},
     "output_type": "execute_result"
    }
   ],
   "source": [
    "iris_data['Classification'].value_counts()"
   ]
  },
  {
   "cell_type": "code",
   "execution_count": 50,
   "id": "7cef7ade",
   "metadata": {},
   "outputs": [
    {
     "data": {
      "text/plain": [
       "Iris-setosa        0.333333\n",
       "Iris-versicolor    0.333333\n",
       "Iris-virginica     0.333333\n",
       "Name: Classification, dtype: float64"
      ]
     },
     "execution_count": 50,
     "metadata": {},
     "output_type": "execute_result"
    }
   ],
   "source": [
    "iris_data['Classification'].value_counts(normalize=True)"
   ]
  },
  {
   "cell_type": "code",
   "execution_count": 52,
   "id": "b39f2011",
   "metadata": {},
   "outputs": [],
   "source": [
    "#label encoding for the column \"classification\""
   ]
  },
  {
   "cell_type": "code",
   "execution_count": 53,
   "id": "a03dd2e9",
   "metadata": {},
   "outputs": [],
   "source": [
    "from sklearn import preprocessing\n",
    "from sklearn.preprocessing import LabelEncoder\n",
    "lab_enc = LabelEncoder()"
   ]
  },
  {
   "cell_type": "code",
   "execution_count": 54,
   "id": "57477ab4",
   "metadata": {},
   "outputs": [],
   "source": [
    "iris_data['Classification'] = lab_enc.fit_transform (iris_data['Classification'])"
   ]
  },
  {
   "cell_type": "code",
   "execution_count": 55,
   "id": "938ac344",
   "metadata": {},
   "outputs": [],
   "source": [
    "# one hot encoding for the column Classification"
   ]
  },
  {
   "cell_type": "code",
   "execution_count": 56,
   "id": "898be9ff",
   "metadata": {},
   "outputs": [],
   "source": [
    "#iris_data = pd.get_dummies(iris_data)"
   ]
  },
  {
   "cell_type": "code",
   "execution_count": 57,
   "id": "ca00e8c1",
   "metadata": {},
   "outputs": [],
   "source": [
    "#iris_data.head()"
   ]
  },
  {
   "cell_type": "code",
   "execution_count": 58,
   "id": "dccd2cb2",
   "metadata": {},
   "outputs": [
    {
     "data": {
      "text/html": [
       "<div>\n",
       "<style scoped>\n",
       "    .dataframe tbody tr th:only-of-type {\n",
       "        vertical-align: middle;\n",
       "    }\n",
       "\n",
       "    .dataframe tbody tr th {\n",
       "        vertical-align: top;\n",
       "    }\n",
       "\n",
       "    .dataframe thead th {\n",
       "        text-align: right;\n",
       "    }\n",
       "</style>\n",
       "<table border=\"1\" class=\"dataframe\">\n",
       "  <thead>\n",
       "    <tr style=\"text-align: right;\">\n",
       "      <th></th>\n",
       "      <th>SL</th>\n",
       "      <th>SW</th>\n",
       "      <th>PL</th>\n",
       "      <th>PW</th>\n",
       "      <th>Classification</th>\n",
       "    </tr>\n",
       "  </thead>\n",
       "  <tbody>\n",
       "    <tr>\n",
       "      <th>count</th>\n",
       "      <td>150.000000</td>\n",
       "      <td>150.000000</td>\n",
       "      <td>150.000000</td>\n",
       "      <td>150.000000</td>\n",
       "      <td>150.000000</td>\n",
       "    </tr>\n",
       "    <tr>\n",
       "      <th>mean</th>\n",
       "      <td>5.855944</td>\n",
       "      <td>3.049306</td>\n",
       "      <td>3.756250</td>\n",
       "      <td>1.198667</td>\n",
       "      <td>1.000000</td>\n",
       "    </tr>\n",
       "    <tr>\n",
       "      <th>std</th>\n",
       "      <td>0.808480</td>\n",
       "      <td>0.421884</td>\n",
       "      <td>1.725479</td>\n",
       "      <td>0.763161</td>\n",
       "      <td>0.819232</td>\n",
       "    </tr>\n",
       "    <tr>\n",
       "      <th>min</th>\n",
       "      <td>4.300000</td>\n",
       "      <td>2.000000</td>\n",
       "      <td>1.000000</td>\n",
       "      <td>0.100000</td>\n",
       "      <td>0.000000</td>\n",
       "    </tr>\n",
       "    <tr>\n",
       "      <th>25%</th>\n",
       "      <td>5.200000</td>\n",
       "      <td>2.800000</td>\n",
       "      <td>1.600000</td>\n",
       "      <td>0.300000</td>\n",
       "      <td>0.000000</td>\n",
       "    </tr>\n",
       "    <tr>\n",
       "      <th>50%</th>\n",
       "      <td>5.800000</td>\n",
       "      <td>3.000000</td>\n",
       "      <td>4.200000</td>\n",
       "      <td>1.300000</td>\n",
       "      <td>1.000000</td>\n",
       "    </tr>\n",
       "    <tr>\n",
       "      <th>75%</th>\n",
       "      <td>6.400000</td>\n",
       "      <td>3.275000</td>\n",
       "      <td>5.100000</td>\n",
       "      <td>1.800000</td>\n",
       "      <td>2.000000</td>\n",
       "    </tr>\n",
       "    <tr>\n",
       "      <th>max</th>\n",
       "      <td>7.900000</td>\n",
       "      <td>4.400000</td>\n",
       "      <td>6.900000</td>\n",
       "      <td>2.500000</td>\n",
       "      <td>2.000000</td>\n",
       "    </tr>\n",
       "  </tbody>\n",
       "</table>\n",
       "</div>"
      ],
      "text/plain": [
       "               SL          SW          PL          PW  Classification\n",
       "count  150.000000  150.000000  150.000000  150.000000      150.000000\n",
       "mean     5.855944    3.049306    3.756250    1.198667        1.000000\n",
       "std      0.808480    0.421884    1.725479    0.763161        0.819232\n",
       "min      4.300000    2.000000    1.000000    0.100000        0.000000\n",
       "25%      5.200000    2.800000    1.600000    0.300000        0.000000\n",
       "50%      5.800000    3.000000    4.200000    1.300000        1.000000\n",
       "75%      6.400000    3.275000    5.100000    1.800000        2.000000\n",
       "max      7.900000    4.400000    6.900000    2.500000        2.000000"
      ]
     },
     "execution_count": 58,
     "metadata": {},
     "output_type": "execute_result"
    }
   ],
   "source": [
    "iris_data.describe()"
   ]
  },
  {
   "cell_type": "code",
   "execution_count": 59,
   "id": "1bb9057d",
   "metadata": {},
   "outputs": [],
   "source": [
    "# importing test and train data libraries"
   ]
  },
  {
   "cell_type": "code",
   "execution_count": 60,
   "id": "9c049bab",
   "metadata": {},
   "outputs": [],
   "source": [
    "from sklearn.model_selection import train_test_split"
   ]
  },
  {
   "cell_type": "code",
   "execution_count": 61,
   "id": "a8cf7f9c",
   "metadata": {},
   "outputs": [],
   "source": [
    "# spliting target and feature - 2 methods"
   ]
  },
  {
   "cell_type": "code",
   "execution_count": 62,
   "id": "7b951392",
   "metadata": {},
   "outputs": [],
   "source": [
    "#method 1\n",
    "#Prepare the training set  \n",
    "\n",
    "# X = feature values, all the columns except the last column\n",
    "#X = iris_data.iloc[:, :-1]\n",
    "\n",
    "# y = target values, last column of the data frame\n",
    "#y = iris_data.iloc[:, -1]"
   ]
  },
  {
   "cell_type": "code",
   "execution_count": 63,
   "id": "79b6a8da",
   "metadata": {},
   "outputs": [],
   "source": [
    "# second method of target n feature \n",
    "X = iris_data.drop('Classification',axis=1)\n",
    "y = iris_data['Classification']"
   ]
  },
  {
   "cell_type": "code",
   "execution_count": 64,
   "id": "0b8c4b66",
   "metadata": {},
   "outputs": [],
   "source": [
    "# train and test data"
   ]
  },
  {
   "cell_type": "code",
   "execution_count": 65,
   "id": "d4fd1cbf",
   "metadata": {},
   "outputs": [],
   "source": [
    "X_train,X_test,y_train,y_test = train_test_split(X,y,test_size=0.2,random_state=42)"
   ]
  },
  {
   "cell_type": "code",
   "execution_count": 66,
   "id": "ae73ba6a",
   "metadata": {},
   "outputs": [
    {
     "data": {
      "text/html": [
       "<div>\n",
       "<style scoped>\n",
       "    .dataframe tbody tr th:only-of-type {\n",
       "        vertical-align: middle;\n",
       "    }\n",
       "\n",
       "    .dataframe tbody tr th {\n",
       "        vertical-align: top;\n",
       "    }\n",
       "\n",
       "    .dataframe thead th {\n",
       "        text-align: right;\n",
       "    }\n",
       "</style>\n",
       "<table border=\"1\" class=\"dataframe\">\n",
       "  <thead>\n",
       "    <tr style=\"text-align: right;\">\n",
       "      <th></th>\n",
       "      <th>SL</th>\n",
       "      <th>SW</th>\n",
       "      <th>PL</th>\n",
       "      <th>PW</th>\n",
       "    </tr>\n",
       "  </thead>\n",
       "  <tbody>\n",
       "    <tr>\n",
       "      <th>0</th>\n",
       "      <td>5.100000</td>\n",
       "      <td>3.5</td>\n",
       "      <td>1.40000</td>\n",
       "      <td>0.2</td>\n",
       "    </tr>\n",
       "    <tr>\n",
       "      <th>1</th>\n",
       "      <td>4.900000</td>\n",
       "      <td>3.0</td>\n",
       "      <td>1.40000</td>\n",
       "      <td>0.2</td>\n",
       "    </tr>\n",
       "    <tr>\n",
       "      <th>2</th>\n",
       "      <td>5.855944</td>\n",
       "      <td>3.2</td>\n",
       "      <td>1.30000</td>\n",
       "      <td>0.2</td>\n",
       "    </tr>\n",
       "    <tr>\n",
       "      <th>3</th>\n",
       "      <td>4.600000</td>\n",
       "      <td>3.1</td>\n",
       "      <td>1.50000</td>\n",
       "      <td>0.2</td>\n",
       "    </tr>\n",
       "    <tr>\n",
       "      <th>4</th>\n",
       "      <td>5.000000</td>\n",
       "      <td>3.6</td>\n",
       "      <td>1.40000</td>\n",
       "      <td>0.2</td>\n",
       "    </tr>\n",
       "    <tr>\n",
       "      <th>...</th>\n",
       "      <td>...</td>\n",
       "      <td>...</td>\n",
       "      <td>...</td>\n",
       "      <td>...</td>\n",
       "    </tr>\n",
       "    <tr>\n",
       "      <th>145</th>\n",
       "      <td>6.700000</td>\n",
       "      <td>3.0</td>\n",
       "      <td>5.20000</td>\n",
       "      <td>2.3</td>\n",
       "    </tr>\n",
       "    <tr>\n",
       "      <th>146</th>\n",
       "      <td>6.300000</td>\n",
       "      <td>2.5</td>\n",
       "      <td>5.00000</td>\n",
       "      <td>1.9</td>\n",
       "    </tr>\n",
       "    <tr>\n",
       "      <th>147</th>\n",
       "      <td>6.500000</td>\n",
       "      <td>3.0</td>\n",
       "      <td>3.75625</td>\n",
       "      <td>2.0</td>\n",
       "    </tr>\n",
       "    <tr>\n",
       "      <th>148</th>\n",
       "      <td>6.200000</td>\n",
       "      <td>3.4</td>\n",
       "      <td>5.40000</td>\n",
       "      <td>2.3</td>\n",
       "    </tr>\n",
       "    <tr>\n",
       "      <th>149</th>\n",
       "      <td>5.900000</td>\n",
       "      <td>3.0</td>\n",
       "      <td>5.10000</td>\n",
       "      <td>1.8</td>\n",
       "    </tr>\n",
       "  </tbody>\n",
       "</table>\n",
       "<p>150 rows × 4 columns</p>\n",
       "</div>"
      ],
      "text/plain": [
       "           SL   SW       PL   PW\n",
       "0    5.100000  3.5  1.40000  0.2\n",
       "1    4.900000  3.0  1.40000  0.2\n",
       "2    5.855944  3.2  1.30000  0.2\n",
       "3    4.600000  3.1  1.50000  0.2\n",
       "4    5.000000  3.6  1.40000  0.2\n",
       "..        ...  ...      ...  ...\n",
       "145  6.700000  3.0  5.20000  2.3\n",
       "146  6.300000  2.5  5.00000  1.9\n",
       "147  6.500000  3.0  3.75625  2.0\n",
       "148  6.200000  3.4  5.40000  2.3\n",
       "149  5.900000  3.0  5.10000  1.8\n",
       "\n",
       "[150 rows x 4 columns]"
      ]
     },
     "execution_count": 66,
     "metadata": {},
     "output_type": "execute_result"
    }
   ],
   "source": [
    "X"
   ]
  },
  {
   "cell_type": "code",
   "execution_count": 67,
   "id": "124a3b40",
   "metadata": {},
   "outputs": [
    {
     "data": {
      "text/plain": [
       "0      0\n",
       "1      0\n",
       "2      0\n",
       "3      0\n",
       "4      0\n",
       "      ..\n",
       "145    2\n",
       "146    2\n",
       "147    2\n",
       "148    2\n",
       "149    2\n",
       "Name: Classification, Length: 150, dtype: int32"
      ]
     },
     "execution_count": 67,
     "metadata": {},
     "output_type": "execute_result"
    }
   ],
   "source": [
    "y"
   ]
  },
  {
   "cell_type": "code",
   "execution_count": 68,
   "id": "3eb53403",
   "metadata": {},
   "outputs": [],
   "source": [
    "# classsification model"
   ]
  },
  {
   "cell_type": "markdown",
   "id": "ce6ff060",
   "metadata": {},
   "source": [
    "# Logistic Regression- Model 1"
   ]
  },
  {
   "cell_type": "code",
   "execution_count": 69,
   "id": "1db4a820",
   "metadata": {},
   "outputs": [],
   "source": [
    "from sklearn.linear_model import LogisticRegression\n"
   ]
  },
  {
   "cell_type": "code",
   "execution_count": 70,
   "id": "e734c24d",
   "metadata": {},
   "outputs": [],
   "source": [
    "logit_model = LogisticRegression()\n",
    "logit_model = logit_model.fit(X_train,y_train)\n",
    "y_pred_logit =logit_model.predict(X_test)"
   ]
  },
  {
   "cell_type": "code",
   "execution_count": 71,
   "id": "411c7289",
   "metadata": {},
   "outputs": [
    {
     "data": {
      "text/plain": [
       "array([1, 0, 2, 1, 1, 0, 1, 2, 1, 1, 2, 0, 0, 0, 0, 1, 2, 1, 1, 2, 0, 2,\n",
       "       0, 2, 2, 2, 2, 2, 0, 0])"
      ]
     },
     "execution_count": 71,
     "metadata": {},
     "output_type": "execute_result"
    }
   ],
   "source": [
    "y_pred_logit"
   ]
  },
  {
   "cell_type": "code",
   "execution_count": 72,
   "id": "e96c2fa5",
   "metadata": {},
   "outputs": [],
   "source": [
    "#confusion matrix"
   ]
  },
  {
   "cell_type": "code",
   "execution_count": 73,
   "id": "15aabded",
   "metadata": {},
   "outputs": [],
   "source": [
    "from sklearn.metrics import confusion_matrix"
   ]
  },
  {
   "cell_type": "code",
   "execution_count": 74,
   "id": "548e6583",
   "metadata": {},
   "outputs": [
    {
     "data": {
      "text/plain": [
       "array([[10,  0,  0],\n",
       "       [ 0,  9,  0],\n",
       "       [ 0,  0, 11]], dtype=int64)"
      ]
     },
     "execution_count": 74,
     "metadata": {},
     "output_type": "execute_result"
    }
   ],
   "source": [
    "confusion_matrix(y_test,y_pred_logit)"
   ]
  },
  {
   "cell_type": "code",
   "execution_count": 75,
   "id": "a227773d",
   "metadata": {},
   "outputs": [
    {
     "data": {
      "text/plain": [
       "73     1\n",
       "18     0\n",
       "118    2\n",
       "78     1\n",
       "76     1\n",
       "31     0\n",
       "64     1\n",
       "141    2\n",
       "68     1\n",
       "82     1\n",
       "110    2\n",
       "12     0\n",
       "36     0\n",
       "9      0\n",
       "19     0\n",
       "56     1\n",
       "104    2\n",
       "69     1\n",
       "55     1\n",
       "132    2\n",
       "29     0\n",
       "127    2\n",
       "26     0\n",
       "128    2\n",
       "131    2\n",
       "145    2\n",
       "108    2\n",
       "143    2\n",
       "45     0\n",
       "30     0\n",
       "Name: Classification, dtype: int32"
      ]
     },
     "execution_count": 75,
     "metadata": {},
     "output_type": "execute_result"
    }
   ],
   "source": [
    "y_test"
   ]
  },
  {
   "cell_type": "code",
   "execution_count": 76,
   "id": "b131c5fc",
   "metadata": {},
   "outputs": [],
   "source": [
    "from sklearn.metrics import precision_score,recall_score,accuracy_score"
   ]
  },
  {
   "cell_type": "code",
   "execution_count": 77,
   "id": "14ab8f61",
   "metadata": {},
   "outputs": [
    {
     "data": {
      "text/plain": [
       "1.0"
      ]
     },
     "execution_count": 77,
     "metadata": {},
     "output_type": "execute_result"
    }
   ],
   "source": [
    "precision_score(y_test,y_pred_logit ,average='micro')"
   ]
  },
  {
   "cell_type": "code",
   "execution_count": 78,
   "id": "fd21f2ac",
   "metadata": {},
   "outputs": [
    {
     "data": {
      "text/plain": [
       "1.0"
      ]
     },
     "execution_count": 78,
     "metadata": {},
     "output_type": "execute_result"
    }
   ],
   "source": [
    "recall_score(y_test,y_pred_logit,average='micro')"
   ]
  },
  {
   "cell_type": "code",
   "execution_count": 79,
   "id": "c03cf06d",
   "metadata": {},
   "outputs": [
    {
     "data": {
      "text/plain": [
       "1.0"
      ]
     },
     "execution_count": 79,
     "metadata": {},
     "output_type": "execute_result"
    }
   ],
   "source": [
    "accuracy_score(y_test,y_pred_logit)"
   ]
  },
  {
   "cell_type": "markdown",
   "id": "b2bc2864",
   "metadata": {},
   "source": [
    "# KNN model- Model2"
   ]
  },
  {
   "cell_type": "code",
   "execution_count": 80,
   "id": "64589907",
   "metadata": {},
   "outputs": [],
   "source": [
    "from sklearn.neighbors import KNeighborsClassifier"
   ]
  },
  {
   "cell_type": "code",
   "execution_count": 81,
   "id": "8c1b98ac",
   "metadata": {},
   "outputs": [],
   "source": [
    "metric_k =[]\n",
    "neighbors = range(3,15)\n",
    "\n",
    "for k in neighbors:\n",
    "    classifier = KNeighborsClassifier(n_neighbors=k)\n",
    "    classifier = classifier.fit(X_train,y_train)\n",
    "    y_pred_kNN = classifier.predict(X_test)\n",
    "    acc = accuracy_score(y_test,y_pred_kNN)\n",
    "    metric_k.append(acc)"
   ]
  },
  {
   "cell_type": "code",
   "execution_count": 82,
   "id": "3d7eba1d",
   "metadata": {},
   "outputs": [
    {
     "data": {
      "text/plain": [
       "[0.9666666666666667,\n",
       " 1.0,\n",
       " 0.9666666666666667,\n",
       " 0.9666666666666667,\n",
       " 0.9666666666666667,\n",
       " 0.9666666666666667,\n",
       " 0.9666666666666667,\n",
       " 1.0,\n",
       " 1.0,\n",
       " 1.0,\n",
       " 1.0,\n",
       " 1.0]"
      ]
     },
     "execution_count": 82,
     "metadata": {},
     "output_type": "execute_result"
    }
   ],
   "source": [
    "metric_k"
   ]
  },
  {
   "cell_type": "code",
   "execution_count": 83,
   "id": "0ae74bad",
   "metadata": {},
   "outputs": [
    {
     "data": {
      "image/png": "[encoded data removed]",
      "text/plain": [
       "<Figure size 432x288 with 1 Axes>"
      ]
     },
     "metadata": {
      "needs_background": "light"
     },
     "output_type": "display_data"
    }
   ],
   "source": [
    "plt.plot(neighbors,metric_k,'o-')\n",
    "plt.xlabel(\"k values\")\n",
    "plt.ylabel(\"Accuracies\")\n",
    "plt.grid()"
   ]
  },
  {
   "cell_type": "code",
   "execution_count": 84,
   "id": "1d7f9fa7",
   "metadata": {},
   "outputs": [],
   "source": [
    "classifier = KNeighborsClassifier(n_neighbors=5)\n",
    "classifier = classifier.fit(X_train,y_train)\n",
    "y_pred_kNN = classifier.predict(X_test)"
   ]
  },
  {
   "cell_type": "code",
   "execution_count": 85,
   "id": "b1585980",
   "metadata": {},
   "outputs": [
    {
     "data": {
      "text/plain": [
       "0.9666666666666667"
      ]
     },
     "execution_count": 85,
     "metadata": {},
     "output_type": "execute_result"
    }
   ],
   "source": [
    "accuracy_score(y_test,y_pred_kNN)"
   ]
  },
  {
   "cell_type": "code",
   "execution_count": 86,
   "id": "194fa2bd",
   "metadata": {},
   "outputs": [],
   "source": [
    "# Accuracy for KNN model is 0.9666667"
   ]
  },
  {
   "cell_type": "code",
   "execution_count": 87,
   "id": "3f688cba",
   "metadata": {},
   "outputs": [
    {
     "data": {
      "text/plain": [
       "array([[10,  0,  0],\n",
       "       [ 0,  8,  1],\n",
       "       [ 0,  0, 11]], dtype=int64)"
      ]
     },
     "execution_count": 87,
     "metadata": {},
     "output_type": "execute_result"
    }
   ],
   "source": [
    "confusion_matrix(y_test,y_pred_kNN)"
   ]
  },
  {
   "cell_type": "code",
   "execution_count": 88,
   "id": "5b914cf3",
   "metadata": {},
   "outputs": [
    {
     "name": "stderr",
     "output_type": "stream",
     "text": [
      "C:\\ProgramData\\Anaconda3\\lib\\site-packages\\sklearn\\metrics\\_classification.py:1370: UserWarning: Note that pos_label (set to 'positive') is ignored when average != 'binary' (got 'micro'). You may use labels=[pos_label] to specify a single positive class.\n",
      "  warnings.warn(\n"
     ]
    },
    {
     "data": {
      "text/plain": [
       "0.9666666666666667"
      ]
     },
     "execution_count": 88,
     "metadata": {},
     "output_type": "execute_result"
    }
   ],
   "source": [
    "precision_score(y_test,y_pred_kNN, pos_label='positive',\n",
    "                                           average='micro')"
   ]
  },
  {
   "cell_type": "code",
   "execution_count": 89,
   "id": "8aa8cb11",
   "metadata": {},
   "outputs": [
    {
     "data": {
      "text/plain": [
       "0.9666666666666667"
      ]
     },
     "execution_count": 89,
     "metadata": {},
     "output_type": "execute_result"
    }
   ],
   "source": [
    "recall_score(y_test,y_pred_kNN, average='micro')"
   ]
  },
  {
   "cell_type": "markdown",
   "id": "dc2a4c48",
   "metadata": {},
   "source": [
    "# MinMax scaling"
   ]
  },
  {
   "cell_type": "code",
   "execution_count": 90,
   "id": "ea438b13",
   "metadata": {},
   "outputs": [],
   "source": [
    "# doing min max scaling and checking the accuracy of linear regression , KNN,SVM,RBF,Decission tree and random forest"
   ]
  },
  {
   "cell_type": "code",
   "execution_count": 91,
   "id": "8cf6e178",
   "metadata": {},
   "outputs": [],
   "source": [
    "from sklearn.preprocessing import MinMaxScaler"
   ]
  },
  {
   "cell_type": "code",
   "execution_count": 92,
   "id": "0daac799",
   "metadata": {},
   "outputs": [],
   "source": [
    "# Classification is a categorical value so not doing scaling"
   ]
  },
  {
   "cell_type": "code",
   "execution_count": 93,
   "id": "8e89e74f",
   "metadata": {},
   "outputs": [],
   "source": [
    "X2 = iris_data['Classification']  # Assigning categorical value in one variable"
   ]
  },
  {
   "cell_type": "code",
   "execution_count": 94,
   "id": "47c3546a",
   "metadata": {},
   "outputs": [],
   "source": [
    "X1=iris_data.drop(['Classification'],axis=1)  # asiiging variable with the field to be scaled"
   ]
  },
  {
   "cell_type": "code",
   "execution_count": 95,
   "id": "75c31c50",
   "metadata": {},
   "outputs": [],
   "source": [
    "min_max_scaler = MinMaxScaler(feature_range=(0,1))"
   ]
  },
  {
   "cell_type": "code",
   "execution_count": 96,
   "id": "d72da385",
   "metadata": {},
   "outputs": [],
   "source": [
    "X1 = min_max_scaler.fit_transform(X1)"
   ]
  },
  {
   "cell_type": "code",
   "execution_count": 97,
   "id": "5084b9c0",
   "metadata": {},
   "outputs": [
    {
     "data": {
      "text/plain": [
       "numpy.ndarray"
      ]
     },
     "execution_count": 97,
     "metadata": {},
     "output_type": "execute_result"
    }
   ],
   "source": [
    "type(X1)"
   ]
  },
  {
   "cell_type": "code",
   "execution_count": 98,
   "id": "11ddab2d",
   "metadata": {},
   "outputs": [],
   "source": [
    "X1= pd.DataFrame(X1,columns=['SL','SW','PL','PW'])"
   ]
  },
  {
   "cell_type": "code",
   "execution_count": 99,
   "id": "7d8059fc",
   "metadata": {},
   "outputs": [
    {
     "data": {
      "text/html": [
       "<div>\n",
       "<style scoped>\n",
       "    .dataframe tbody tr th:only-of-type {\n",
       "        vertical-align: middle;\n",
       "    }\n",
       "\n",
       "    .dataframe tbody tr th {\n",
       "        vertical-align: top;\n",
       "    }\n",
       "\n",
       "    .dataframe thead th {\n",
       "        text-align: right;\n",
       "    }\n",
       "</style>\n",
       "<table border=\"1\" class=\"dataframe\">\n",
       "  <thead>\n",
       "    <tr style=\"text-align: right;\">\n",
       "      <th></th>\n",
       "      <th>SL</th>\n",
       "      <th>SW</th>\n",
       "      <th>PL</th>\n",
       "      <th>PW</th>\n",
       "    </tr>\n",
       "  </thead>\n",
       "  <tbody>\n",
       "    <tr>\n",
       "      <th>0</th>\n",
       "      <td>0.222222</td>\n",
       "      <td>0.625000</td>\n",
       "      <td>0.067797</td>\n",
       "      <td>0.041667</td>\n",
       "    </tr>\n",
       "    <tr>\n",
       "      <th>1</th>\n",
       "      <td>0.166667</td>\n",
       "      <td>0.416667</td>\n",
       "      <td>0.067797</td>\n",
       "      <td>0.041667</td>\n",
       "    </tr>\n",
       "    <tr>\n",
       "      <th>2</th>\n",
       "      <td>0.432207</td>\n",
       "      <td>0.500000</td>\n",
       "      <td>0.050847</td>\n",
       "      <td>0.041667</td>\n",
       "    </tr>\n",
       "    <tr>\n",
       "      <th>3</th>\n",
       "      <td>0.083333</td>\n",
       "      <td>0.458333</td>\n",
       "      <td>0.084746</td>\n",
       "      <td>0.041667</td>\n",
       "    </tr>\n",
       "    <tr>\n",
       "      <th>4</th>\n",
       "      <td>0.194444</td>\n",
       "      <td>0.666667</td>\n",
       "      <td>0.067797</td>\n",
       "      <td>0.041667</td>\n",
       "    </tr>\n",
       "  </tbody>\n",
       "</table>\n",
       "</div>"
      ],
      "text/plain": [
       "         SL        SW        PL        PW\n",
       "0  0.222222  0.625000  0.067797  0.041667\n",
       "1  0.166667  0.416667  0.067797  0.041667\n",
       "2  0.432207  0.500000  0.050847  0.041667\n",
       "3  0.083333  0.458333  0.084746  0.041667\n",
       "4  0.194444  0.666667  0.067797  0.041667"
      ]
     },
     "execution_count": 99,
     "metadata": {},
     "output_type": "execute_result"
    }
   ],
   "source": [
    "X1.head()"
   ]
  },
  {
   "cell_type": "code",
   "execution_count": 100,
   "id": "68b1f98d",
   "metadata": {},
   "outputs": [],
   "source": [
    "iris_data1= pd.concat([X1,X2],axis=1)"
   ]
  },
  {
   "cell_type": "code",
   "execution_count": 101,
   "id": "89b9a366",
   "metadata": {},
   "outputs": [
    {
     "data": {
      "text/html": [
       "<div>\n",
       "<style scoped>\n",
       "    .dataframe tbody tr th:only-of-type {\n",
       "        vertical-align: middle;\n",
       "    }\n",
       "\n",
       "    .dataframe tbody tr th {\n",
       "        vertical-align: top;\n",
       "    }\n",
       "\n",
       "    .dataframe thead th {\n",
       "        text-align: right;\n",
       "    }\n",
       "</style>\n",
       "<table border=\"1\" class=\"dataframe\">\n",
       "  <thead>\n",
       "    <tr style=\"text-align: right;\">\n",
       "      <th></th>\n",
       "      <th>SL</th>\n",
       "      <th>SW</th>\n",
       "      <th>PL</th>\n",
       "      <th>PW</th>\n",
       "    </tr>\n",
       "  </thead>\n",
       "  <tbody>\n",
       "    <tr>\n",
       "      <th>count</th>\n",
       "      <td>150.000000</td>\n",
       "      <td>150.000000</td>\n",
       "      <td>150.000000</td>\n",
       "      <td>150.000000</td>\n",
       "    </tr>\n",
       "    <tr>\n",
       "      <th>mean</th>\n",
       "      <td>0.432207</td>\n",
       "      <td>0.437211</td>\n",
       "      <td>0.467161</td>\n",
       "      <td>0.457778</td>\n",
       "    </tr>\n",
       "    <tr>\n",
       "      <th>std</th>\n",
       "      <td>0.224578</td>\n",
       "      <td>0.175785</td>\n",
       "      <td>0.292454</td>\n",
       "      <td>0.317984</td>\n",
       "    </tr>\n",
       "    <tr>\n",
       "      <th>min</th>\n",
       "      <td>0.000000</td>\n",
       "      <td>0.000000</td>\n",
       "      <td>0.000000</td>\n",
       "      <td>0.000000</td>\n",
       "    </tr>\n",
       "    <tr>\n",
       "      <th>25%</th>\n",
       "      <td>0.250000</td>\n",
       "      <td>0.333333</td>\n",
       "      <td>0.101695</td>\n",
       "      <td>0.083333</td>\n",
       "    </tr>\n",
       "    <tr>\n",
       "      <th>50%</th>\n",
       "      <td>0.416667</td>\n",
       "      <td>0.416667</td>\n",
       "      <td>0.542373</td>\n",
       "      <td>0.500000</td>\n",
       "    </tr>\n",
       "    <tr>\n",
       "      <th>75%</th>\n",
       "      <td>0.583333</td>\n",
       "      <td>0.531250</td>\n",
       "      <td>0.694915</td>\n",
       "      <td>0.708333</td>\n",
       "    </tr>\n",
       "    <tr>\n",
       "      <th>max</th>\n",
       "      <td>1.000000</td>\n",
       "      <td>1.000000</td>\n",
       "      <td>1.000000</td>\n",
       "      <td>1.000000</td>\n",
       "    </tr>\n",
       "  </tbody>\n",
       "</table>\n",
       "</div>"
      ],
      "text/plain": [
       "               SL          SW          PL          PW\n",
       "count  150.000000  150.000000  150.000000  150.000000\n",
       "mean     0.432207    0.437211    0.467161    0.457778\n",
       "std      0.224578    0.175785    0.292454    0.317984\n",
       "min      0.000000    0.000000    0.000000    0.000000\n",
       "25%      0.250000    0.333333    0.101695    0.083333\n",
       "50%      0.416667    0.416667    0.542373    0.500000\n",
       "75%      0.583333    0.531250    0.694915    0.708333\n",
       "max      1.000000    1.000000    1.000000    1.000000"
      ]
     },
     "execution_count": 101,
     "metadata": {},
     "output_type": "execute_result"
    }
   ],
   "source": [
    "X1.describe()"
   ]
  },
  {
   "cell_type": "code",
   "execution_count": 102,
   "id": "51bf1f67",
   "metadata": {},
   "outputs": [],
   "source": [
    "#Minmax scaled data"
   ]
  },
  {
   "cell_type": "code",
   "execution_count": 103,
   "id": "1d8a1ce0",
   "metadata": {},
   "outputs": [
    {
     "data": {
      "text/html": [
       "<div>\n",
       "<style scoped>\n",
       "    .dataframe tbody tr th:only-of-type {\n",
       "        vertical-align: middle;\n",
       "    }\n",
       "\n",
       "    .dataframe tbody tr th {\n",
       "        vertical-align: top;\n",
       "    }\n",
       "\n",
       "    .dataframe thead th {\n",
       "        text-align: right;\n",
       "    }\n",
       "</style>\n",
       "<table border=\"1\" class=\"dataframe\">\n",
       "  <thead>\n",
       "    <tr style=\"text-align: right;\">\n",
       "      <th></th>\n",
       "      <th>SL</th>\n",
       "      <th>SW</th>\n",
       "      <th>PL</th>\n",
       "      <th>PW</th>\n",
       "      <th>Classification</th>\n",
       "    </tr>\n",
       "  </thead>\n",
       "  <tbody>\n",
       "    <tr>\n",
       "      <th>0</th>\n",
       "      <td>0.222222</td>\n",
       "      <td>0.625000</td>\n",
       "      <td>0.067797</td>\n",
       "      <td>0.041667</td>\n",
       "      <td>0</td>\n",
       "    </tr>\n",
       "    <tr>\n",
       "      <th>1</th>\n",
       "      <td>0.166667</td>\n",
       "      <td>0.416667</td>\n",
       "      <td>0.067797</td>\n",
       "      <td>0.041667</td>\n",
       "      <td>0</td>\n",
       "    </tr>\n",
       "    <tr>\n",
       "      <th>2</th>\n",
       "      <td>0.432207</td>\n",
       "      <td>0.500000</td>\n",
       "      <td>0.050847</td>\n",
       "      <td>0.041667</td>\n",
       "      <td>0</td>\n",
       "    </tr>\n",
       "    <tr>\n",
       "      <th>3</th>\n",
       "      <td>0.083333</td>\n",
       "      <td>0.458333</td>\n",
       "      <td>0.084746</td>\n",
       "      <td>0.041667</td>\n",
       "      <td>0</td>\n",
       "    </tr>\n",
       "    <tr>\n",
       "      <th>4</th>\n",
       "      <td>0.194444</td>\n",
       "      <td>0.666667</td>\n",
       "      <td>0.067797</td>\n",
       "      <td>0.041667</td>\n",
       "      <td>0</td>\n",
       "    </tr>\n",
       "  </tbody>\n",
       "</table>\n",
       "</div>"
      ],
      "text/plain": [
       "         SL        SW        PL        PW  Classification\n",
       "0  0.222222  0.625000  0.067797  0.041667               0\n",
       "1  0.166667  0.416667  0.067797  0.041667               0\n",
       "2  0.432207  0.500000  0.050847  0.041667               0\n",
       "3  0.083333  0.458333  0.084746  0.041667               0\n",
       "4  0.194444  0.666667  0.067797  0.041667               0"
      ]
     },
     "execution_count": 103,
     "metadata": {},
     "output_type": "execute_result"
    }
   ],
   "source": [
    "iris_data1.head()"
   ]
  },
  {
   "cell_type": "code",
   "execution_count": 104,
   "id": "baee5869",
   "metadata": {},
   "outputs": [
    {
     "data": {
      "text/html": [
       "<div>\n",
       "<style scoped>\n",
       "    .dataframe tbody tr th:only-of-type {\n",
       "        vertical-align: middle;\n",
       "    }\n",
       "\n",
       "    .dataframe tbody tr th {\n",
       "        vertical-align: top;\n",
       "    }\n",
       "\n",
       "    .dataframe thead th {\n",
       "        text-align: right;\n",
       "    }\n",
       "</style>\n",
       "<table border=\"1\" class=\"dataframe\">\n",
       "  <thead>\n",
       "    <tr style=\"text-align: right;\">\n",
       "      <th></th>\n",
       "      <th>SL</th>\n",
       "      <th>SW</th>\n",
       "      <th>PL</th>\n",
       "      <th>PW</th>\n",
       "      <th>Classification</th>\n",
       "    </tr>\n",
       "  </thead>\n",
       "  <tbody>\n",
       "    <tr>\n",
       "      <th>count</th>\n",
       "      <td>150.000000</td>\n",
       "      <td>150.000000</td>\n",
       "      <td>150.000000</td>\n",
       "      <td>150.000000</td>\n",
       "      <td>150.000000</td>\n",
       "    </tr>\n",
       "    <tr>\n",
       "      <th>mean</th>\n",
       "      <td>0.432207</td>\n",
       "      <td>0.437211</td>\n",
       "      <td>0.467161</td>\n",
       "      <td>0.457778</td>\n",
       "      <td>1.000000</td>\n",
       "    </tr>\n",
       "    <tr>\n",
       "      <th>std</th>\n",
       "      <td>0.224578</td>\n",
       "      <td>0.175785</td>\n",
       "      <td>0.292454</td>\n",
       "      <td>0.317984</td>\n",
       "      <td>0.819232</td>\n",
       "    </tr>\n",
       "    <tr>\n",
       "      <th>min</th>\n",
       "      <td>0.000000</td>\n",
       "      <td>0.000000</td>\n",
       "      <td>0.000000</td>\n",
       "      <td>0.000000</td>\n",
       "      <td>0.000000</td>\n",
       "    </tr>\n",
       "    <tr>\n",
       "      <th>25%</th>\n",
       "      <td>0.250000</td>\n",
       "      <td>0.333333</td>\n",
       "      <td>0.101695</td>\n",
       "      <td>0.083333</td>\n",
       "      <td>0.000000</td>\n",
       "    </tr>\n",
       "    <tr>\n",
       "      <th>50%</th>\n",
       "      <td>0.416667</td>\n",
       "      <td>0.416667</td>\n",
       "      <td>0.542373</td>\n",
       "      <td>0.500000</td>\n",
       "      <td>1.000000</td>\n",
       "    </tr>\n",
       "    <tr>\n",
       "      <th>75%</th>\n",
       "      <td>0.583333</td>\n",
       "      <td>0.531250</td>\n",
       "      <td>0.694915</td>\n",
       "      <td>0.708333</td>\n",
       "      <td>2.000000</td>\n",
       "    </tr>\n",
       "    <tr>\n",
       "      <th>max</th>\n",
       "      <td>1.000000</td>\n",
       "      <td>1.000000</td>\n",
       "      <td>1.000000</td>\n",
       "      <td>1.000000</td>\n",
       "      <td>2.000000</td>\n",
       "    </tr>\n",
       "  </tbody>\n",
       "</table>\n",
       "</div>"
      ],
      "text/plain": [
       "               SL          SW          PL          PW  Classification\n",
       "count  150.000000  150.000000  150.000000  150.000000      150.000000\n",
       "mean     0.432207    0.437211    0.467161    0.457778        1.000000\n",
       "std      0.224578    0.175785    0.292454    0.317984        0.819232\n",
       "min      0.000000    0.000000    0.000000    0.000000        0.000000\n",
       "25%      0.250000    0.333333    0.101695    0.083333        0.000000\n",
       "50%      0.416667    0.416667    0.542373    0.500000        1.000000\n",
       "75%      0.583333    0.531250    0.694915    0.708333        2.000000\n",
       "max      1.000000    1.000000    1.000000    1.000000        2.000000"
      ]
     },
     "execution_count": 104,
     "metadata": {},
     "output_type": "execute_result"
    }
   ],
   "source": [
    "iris_data1.describe()"
   ]
  },
  {
   "cell_type": "markdown",
   "id": "6f26ab7d",
   "metadata": {},
   "source": [
    "# Logistic Regression after minmax scaling"
   ]
  },
  {
   "cell_type": "code",
   "execution_count": 105,
   "id": "38b1ea8f",
   "metadata": {},
   "outputs": [],
   "source": [
    "# using scaled data for classification"
   ]
  },
  {
   "cell_type": "code",
   "execution_count": 106,
   "id": "ebf1e1dd",
   "metadata": {},
   "outputs": [],
   "source": [
    "X=iris_data1.drop(['Classification'],axis=1)\n",
    "y=iris_data1['Classification']"
   ]
  },
  {
   "cell_type": "code",
   "execution_count": 107,
   "id": "c8f2550b",
   "metadata": {},
   "outputs": [],
   "source": [
    "X_train,X_test,y_train,y_test = train_test_split(X,y,test_size=0.2,random_state=42)"
   ]
  },
  {
   "cell_type": "code",
   "execution_count": 108,
   "id": "56889cce",
   "metadata": {},
   "outputs": [],
   "source": [
    "logit_model = LogisticRegression()\n",
    "logit_model = logit_model.fit(X_train,y_train)\n",
    "y_pred_logit =logit_model.predict(X_test)"
   ]
  },
  {
   "cell_type": "code",
   "execution_count": 109,
   "id": "0a744ecc",
   "metadata": {},
   "outputs": [
    {
     "data": {
      "text/plain": [
       "array([1, 0, 2, 1, 1, 0, 1, 2, 1, 1, 2, 0, 0, 0, 0, 1, 2, 1, 1, 2, 0, 2,\n",
       "       0, 2, 2, 2, 2, 2, 0, 0])"
      ]
     },
     "execution_count": 109,
     "metadata": {},
     "output_type": "execute_result"
    }
   ],
   "source": [
    "y_pred_logit"
   ]
  },
  {
   "cell_type": "code",
   "execution_count": 110,
   "id": "74f36885",
   "metadata": {},
   "outputs": [],
   "source": [
    "#confusion matrix"
   ]
  },
  {
   "cell_type": "code",
   "execution_count": 111,
   "id": "5bdfa823",
   "metadata": {},
   "outputs": [
    {
     "data": {
      "text/plain": [
       "array([[10,  0,  0],\n",
       "       [ 0,  9,  0],\n",
       "       [ 0,  0, 11]], dtype=int64)"
      ]
     },
     "execution_count": 111,
     "metadata": {},
     "output_type": "execute_result"
    }
   ],
   "source": [
    "confusion_matrix(y_test,y_pred_logit)"
   ]
  },
  {
   "cell_type": "code",
   "execution_count": 112,
   "id": "28e19be1",
   "metadata": {},
   "outputs": [
    {
     "data": {
      "text/plain": [
       "73     1\n",
       "18     0\n",
       "118    2\n",
       "78     1\n",
       "76     1\n",
       "31     0\n",
       "64     1\n",
       "141    2\n",
       "68     1\n",
       "82     1\n",
       "110    2\n",
       "12     0\n",
       "36     0\n",
       "9      0\n",
       "19     0\n",
       "56     1\n",
       "104    2\n",
       "69     1\n",
       "55     1\n",
       "132    2\n",
       "29     0\n",
       "127    2\n",
       "26     0\n",
       "128    2\n",
       "131    2\n",
       "145    2\n",
       "108    2\n",
       "143    2\n",
       "45     0\n",
       "30     0\n",
       "Name: Classification, dtype: int32"
      ]
     },
     "execution_count": 112,
     "metadata": {},
     "output_type": "execute_result"
    }
   ],
   "source": [
    "y_test"
   ]
  },
  {
   "cell_type": "code",
   "execution_count": 113,
   "id": "55629921",
   "metadata": {},
   "outputs": [
    {
     "data": {
      "text/plain": [
       "1.0"
      ]
     },
     "execution_count": 113,
     "metadata": {},
     "output_type": "execute_result"
    }
   ],
   "source": [
    "precision_score(y_test,y_pred_logit ,average='micro')"
   ]
  },
  {
   "cell_type": "code",
   "execution_count": 114,
   "id": "d62c1675",
   "metadata": {},
   "outputs": [
    {
     "data": {
      "text/plain": [
       "1.0"
      ]
     },
     "execution_count": 114,
     "metadata": {},
     "output_type": "execute_result"
    }
   ],
   "source": [
    "recall_score(y_test,y_pred_logit ,average='micro')"
   ]
  },
  {
   "cell_type": "code",
   "execution_count": 115,
   "id": "81ae23ec",
   "metadata": {},
   "outputs": [
    {
     "data": {
      "text/plain": [
       "1.0"
      ]
     },
     "execution_count": 115,
     "metadata": {},
     "output_type": "execute_result"
    }
   ],
   "source": [
    "accuracy_score(y_test,y_pred_logit)"
   ]
  },
  {
   "cell_type": "code",
   "execution_count": 116,
   "id": "f6e1558a",
   "metadata": {},
   "outputs": [],
   "source": [
    "# there is no change in acuuracy after doing minmax scaling, already we got accuracy 100% or 1 for logistic regression model"
   ]
  },
  {
   "cell_type": "markdown",
   "id": "b9658980",
   "metadata": {},
   "source": [
    "# KNN model after minmax scaling"
   ]
  },
  {
   "cell_type": "code",
   "execution_count": 117,
   "id": "85c88620",
   "metadata": {},
   "outputs": [],
   "source": [
    "metric_k =[]\n",
    "neighbors = range(3,15)\n",
    "\n",
    "for k in neighbors:\n",
    "    classifier = KNeighborsClassifier(n_neighbors=k)\n",
    "    classifier = classifier.fit(X_train,y_train)\n",
    "    y_pred_kNN = classifier.predict(X_test)\n",
    "    acc = accuracy_score(y_test,y_pred_kNN)\n",
    "    metric_k.append(acc)"
   ]
  },
  {
   "cell_type": "code",
   "execution_count": 118,
   "id": "45318bf5",
   "metadata": {},
   "outputs": [
    {
     "data": {
      "text/plain": [
       "[0.9666666666666667,\n",
       " 0.9666666666666667,\n",
       " 0.9666666666666667,\n",
       " 1.0,\n",
       " 1.0,\n",
       " 1.0,\n",
       " 1.0,\n",
       " 1.0,\n",
       " 1.0,\n",
       " 1.0,\n",
       " 1.0,\n",
       " 1.0]"
      ]
     },
     "execution_count": 118,
     "metadata": {},
     "output_type": "execute_result"
    }
   ],
   "source": [
    "metric_k"
   ]
  },
  {
   "cell_type": "code",
   "execution_count": 119,
   "id": "97fe773b",
   "metadata": {},
   "outputs": [
    {
     "data": {
      "image/png": "[encoded data removed]",
      "text/plain": [
       "<Figure size 432x288 with 1 Axes>"
      ]
     },
     "metadata": {
      "needs_background": "light"
     },
     "output_type": "display_data"
    }
   ],
   "source": [
    "plt.plot(neighbors,metric_k,'o-')\n",
    "plt.xlabel(\"k values\")\n",
    "plt.ylabel(\"Accuracies\")\n",
    "plt.grid()"
   ]
  },
  {
   "cell_type": "code",
   "execution_count": 120,
   "id": "94801d77",
   "metadata": {},
   "outputs": [],
   "source": [
    "classifier = KNeighborsClassifier(n_neighbors=5)\n",
    "classifier = classifier.fit(X_train,y_train)\n",
    "y_pred_kNN = classifier.predict(X_test)"
   ]
  },
  {
   "cell_type": "code",
   "execution_count": 121,
   "id": "05596a27",
   "metadata": {},
   "outputs": [
    {
     "data": {
      "text/plain": [
       "0.9666666666666667"
      ]
     },
     "execution_count": 121,
     "metadata": {},
     "output_type": "execute_result"
    }
   ],
   "source": [
    "accuracy_score(y_test,y_pred_kNN)"
   ]
  },
  {
   "cell_type": "code",
   "execution_count": 122,
   "id": "5566e8d1",
   "metadata": {},
   "outputs": [],
   "source": [
    "# The accuracy after doing minmax scaling there is no change in the value .It remains the same"
   ]
  },
  {
   "cell_type": "code",
   "execution_count": 123,
   "id": "d7dcc897",
   "metadata": {},
   "outputs": [
    {
     "data": {
      "text/plain": [
       "array([[10,  0,  0],\n",
       "       [ 0,  8,  1],\n",
       "       [ 0,  0, 11]], dtype=int64)"
      ]
     },
     "execution_count": 123,
     "metadata": {},
     "output_type": "execute_result"
    }
   ],
   "source": [
    "confusion_matrix(y_test,y_pred_kNN)"
   ]
  },
  {
   "cell_type": "code",
   "execution_count": 124,
   "id": "c43821f8",
   "metadata": {},
   "outputs": [
    {
     "name": "stderr",
     "output_type": "stream",
     "text": [
      "C:\\ProgramData\\Anaconda3\\lib\\site-packages\\sklearn\\metrics\\_classification.py:1370: UserWarning: Note that pos_label (set to 'positive') is ignored when average != 'binary' (got 'micro'). You may use labels=[pos_label] to specify a single positive class.\n",
      "  warnings.warn(\n"
     ]
    },
    {
     "data": {
      "text/plain": [
       "0.9666666666666667"
      ]
     },
     "execution_count": 124,
     "metadata": {},
     "output_type": "execute_result"
    }
   ],
   "source": [
    "precision_score(y_test,y_pred_kNN, pos_label='positive',\n",
    "                                           average='micro')"
   ]
  },
  {
   "cell_type": "code",
   "execution_count": 125,
   "id": "95119488",
   "metadata": {},
   "outputs": [
    {
     "data": {
      "text/plain": [
       "0.9666666666666667"
      ]
     },
     "execution_count": 125,
     "metadata": {},
     "output_type": "execute_result"
    }
   ],
   "source": [
    "recall_score(y_test,y_pred_kNN, average='micro')"
   ]
  },
  {
   "cell_type": "markdown",
   "id": "22652aa3",
   "metadata": {},
   "source": [
    "# linear kernel- Model 3"
   ]
  },
  {
   "cell_type": "code",
   "execution_count": 126,
   "id": "c559a482",
   "metadata": {},
   "outputs": [],
   "source": [
    "from sklearn.svm import SVC"
   ]
  },
  {
   "cell_type": "code",
   "execution_count": 127,
   "id": "a2adb653",
   "metadata": {},
   "outputs": [],
   "source": [
    "X = iris_data.drop('Classification',axis=1)\n",
    "y = iris_data['Classification']"
   ]
  },
  {
   "cell_type": "code",
   "execution_count": 128,
   "id": "c978ef3f",
   "metadata": {},
   "outputs": [],
   "source": [
    "X_train,X_test,y_train,y_test = train_test_split(X,y,test_size=0.2,random_state=42)"
   ]
  },
  {
   "cell_type": "code",
   "execution_count": 129,
   "id": "b110583c",
   "metadata": {},
   "outputs": [],
   "source": [
    "svm_clf = SVC(kernel='linear')\n",
    "svm_clf = svm_clf.fit(X_train,y_train)\n",
    "y_pred_svm = svm_clf.predict(X_test)"
   ]
  },
  {
   "cell_type": "code",
   "execution_count": 130,
   "id": "3da680db",
   "metadata": {},
   "outputs": [],
   "source": [
    "# creating confusion matrix"
   ]
  },
  {
   "cell_type": "code",
   "execution_count": 131,
   "id": "14ee0961",
   "metadata": {},
   "outputs": [
    {
     "data": {
      "text/plain": [
       "array([[10,  0,  0],\n",
       "       [ 0,  9,  0],\n",
       "       [ 0,  0, 11]], dtype=int64)"
      ]
     },
     "execution_count": 131,
     "metadata": {},
     "output_type": "execute_result"
    }
   ],
   "source": [
    "confusion_matrix(y_test,y_pred_svm)"
   ]
  },
  {
   "cell_type": "code",
   "execution_count": 132,
   "id": "db2a0677",
   "metadata": {},
   "outputs": [
    {
     "data": {
      "text/plain": [
       "1.0"
      ]
     },
     "execution_count": 132,
     "metadata": {},
     "output_type": "execute_result"
    }
   ],
   "source": [
    "accuracy_score(y_test,y_pred_svm)"
   ]
  },
  {
   "cell_type": "code",
   "execution_count": 133,
   "id": "0d1789a8",
   "metadata": {},
   "outputs": [],
   "source": [
    "# accuracy is 1 or 100% for SVM also"
   ]
  },
  {
   "cell_type": "code",
   "execution_count": 134,
   "id": "bd39a6e0",
   "metadata": {},
   "outputs": [],
   "source": [
    "# checking SVM  with scaled data "
   ]
  },
  {
   "cell_type": "code",
   "execution_count": 135,
   "id": "23ce1d18",
   "metadata": {},
   "outputs": [],
   "source": [
    "X=iris_data1.drop(['Classification'],axis=1)\n",
    "y=iris_data1['Classification']"
   ]
  },
  {
   "cell_type": "code",
   "execution_count": 136,
   "id": "07382226",
   "metadata": {},
   "outputs": [],
   "source": [
    "X_train,X_test,y_train,y_test = train_test_split(X,y,test_size=0.2,random_state=42)"
   ]
  },
  {
   "cell_type": "code",
   "execution_count": 137,
   "id": "3da0f80c",
   "metadata": {},
   "outputs": [],
   "source": [
    "svm_clf1 = SVC(kernel='linear')\n",
    "svm_clf1 = svm_clf1.fit(X_train,y_train)\n",
    "y_pred_svm1 = svm_clf1.predict(X_test)"
   ]
  },
  {
   "cell_type": "code",
   "execution_count": 138,
   "id": "a0f2532c",
   "metadata": {},
   "outputs": [],
   "source": [
    "# creating confusion matrix"
   ]
  },
  {
   "cell_type": "code",
   "execution_count": 139,
   "id": "3f3ce97f",
   "metadata": {},
   "outputs": [
    {
     "data": {
      "text/plain": [
       "array([[10,  0,  0],\n",
       "       [ 0,  9,  0],\n",
       "       [ 0,  0, 11]], dtype=int64)"
      ]
     },
     "execution_count": 139,
     "metadata": {},
     "output_type": "execute_result"
    }
   ],
   "source": [
    "confusion_matrix(y_test,y_pred_svm1)"
   ]
  },
  {
   "cell_type": "code",
   "execution_count": 140,
   "id": "2728cd7b",
   "metadata": {},
   "outputs": [
    {
     "data": {
      "text/plain": [
       "1.0"
      ]
     },
     "execution_count": 140,
     "metadata": {},
     "output_type": "execute_result"
    }
   ],
   "source": [
    "accuracy_score(y_test,y_pred_svm1)"
   ]
  },
  {
   "cell_type": "markdown",
   "id": "f4297ef7",
   "metadata": {},
   "source": [
    "# changing the kernel creating with radial base function-- Model 4"
   ]
  },
  {
   "cell_type": "code",
   "execution_count": 141,
   "id": "dd7c0d69",
   "metadata": {},
   "outputs": [],
   "source": [
    "X = iris_data.drop('Classification',axis=1)\n",
    "y = iris_data['Classification']"
   ]
  },
  {
   "cell_type": "code",
   "execution_count": 142,
   "id": "85a9ab9e",
   "metadata": {},
   "outputs": [],
   "source": [
    "X_train,X_test,y_train,y_test = train_test_split(X,y,test_size=0.2,random_state=42)"
   ]
  },
  {
   "cell_type": "code",
   "execution_count": 143,
   "id": "bb8f43a0",
   "metadata": {},
   "outputs": [],
   "source": [
    "svm_clf2 = SVC(kernel='rbf')\n",
    "svm_clf2 = svm_clf2.fit(X_train,y_train)\n",
    "y_pred_svm2 = svm_clf2.predict(X_test)"
   ]
  },
  {
   "cell_type": "code",
   "execution_count": 144,
   "id": "d6314765",
   "metadata": {},
   "outputs": [
    {
     "data": {
      "text/plain": [
       "array([[10,  0,  0],\n",
       "       [ 0,  9,  0],\n",
       "       [ 0,  0, 11]], dtype=int64)"
      ]
     },
     "execution_count": 144,
     "metadata": {},
     "output_type": "execute_result"
    }
   ],
   "source": [
    "confusion_matrix(y_test,y_pred_svm2)"
   ]
  },
  {
   "cell_type": "code",
   "execution_count": 145,
   "id": "824e6a4f",
   "metadata": {},
   "outputs": [
    {
     "data": {
      "text/plain": [
       "1.0"
      ]
     },
     "execution_count": 145,
     "metadata": {},
     "output_type": "execute_result"
    }
   ],
   "source": [
    "accuracy_score(y_test,y_pred_svm2)"
   ]
  },
  {
   "cell_type": "code",
   "execution_count": 146,
   "id": "e7ac0656",
   "metadata": {},
   "outputs": [],
   "source": [
    "# accuracy is 1 for Radial base function"
   ]
  },
  {
   "cell_type": "code",
   "execution_count": 147,
   "id": "8a1672c6",
   "metadata": {},
   "outputs": [],
   "source": [
    "# Checking rbf with scaled data"
   ]
  },
  {
   "cell_type": "code",
   "execution_count": 148,
   "id": "1473d92a",
   "metadata": {},
   "outputs": [],
   "source": [
    "X=iris_data1.drop(['Classification'],axis=1)\n",
    "y=iris_data1['Classification']"
   ]
  },
  {
   "cell_type": "code",
   "execution_count": 149,
   "id": "d259b129",
   "metadata": {},
   "outputs": [],
   "source": [
    "X_train,X_test,y_train,y_test = train_test_split(X,y,test_size=0.2,random_state=42)"
   ]
  },
  {
   "cell_type": "code",
   "execution_count": 150,
   "id": "f30dc56e",
   "metadata": {},
   "outputs": [],
   "source": [
    "svm_clf3 = SVC(kernel='rbf')\n",
    "svm_clf3 = svm_clf3.fit(X_train,y_train)\n",
    "y_pred_svm3 = svm_clf3.predict(X_test)"
   ]
  },
  {
   "cell_type": "code",
   "execution_count": 151,
   "id": "141d8159",
   "metadata": {},
   "outputs": [
    {
     "data": {
      "text/plain": [
       "array([[10,  0,  0],\n",
       "       [ 0,  8,  1],\n",
       "       [ 0,  0, 11]], dtype=int64)"
      ]
     },
     "execution_count": 151,
     "metadata": {},
     "output_type": "execute_result"
    }
   ],
   "source": [
    "confusion_matrix(y_test,y_pred_svm3)"
   ]
  },
  {
   "cell_type": "code",
   "execution_count": 152,
   "id": "773d1819",
   "metadata": {},
   "outputs": [
    {
     "data": {
      "text/plain": [
       "0.9666666666666667"
      ]
     },
     "execution_count": 152,
     "metadata": {},
     "output_type": "execute_result"
    }
   ],
   "source": [
    "accuracy_score(y_test,y_pred_svm3)"
   ]
  },
  {
   "cell_type": "code",
   "execution_count": 153,
   "id": "c057d6ff",
   "metadata": {},
   "outputs": [],
   "source": [
    "#Decission Tree"
   ]
  },
  {
   "cell_type": "code",
   "execution_count": 154,
   "id": "77b5d8a9",
   "metadata": {},
   "outputs": [],
   "source": [
    "from sklearn.tree import DecisionTreeClassifier"
   ]
  },
  {
   "cell_type": "code",
   "execution_count": 155,
   "id": "88a99506",
   "metadata": {},
   "outputs": [],
   "source": [
    "X = iris_data.drop('Classification',axis=1)\n",
    "y = iris_data['Classification']"
   ]
  },
  {
   "cell_type": "code",
   "execution_count": 156,
   "id": "60f80df3",
   "metadata": {},
   "outputs": [],
   "source": [
    "X_train,X_test,y_train,y_test = train_test_split(X,y,test_size=0.2,random_state=42)"
   ]
  },
  {
   "cell_type": "code",
   "execution_count": 157,
   "id": "fd27c310",
   "metadata": {},
   "outputs": [],
   "source": [
    "dt_clf = DecisionTreeClassifier()\n",
    "dt_clf = dt_clf.fit(X_train,y_train)\n",
    "y_pred_dt = dt_clf.predict(X_test)"
   ]
  },
  {
   "cell_type": "code",
   "execution_count": 158,
   "id": "42ad3367",
   "metadata": {},
   "outputs": [
    {
     "data": {
      "text/plain": [
       "array([[10,  0,  0],\n",
       "       [ 0,  9,  0],\n",
       "       [ 0,  0, 11]], dtype=int64)"
      ]
     },
     "execution_count": 158,
     "metadata": {},
     "output_type": "execute_result"
    }
   ],
   "source": [
    "confusion_matrix(y_test,y_pred_dt)"
   ]
  },
  {
   "cell_type": "code",
   "execution_count": 159,
   "id": "9762bba5",
   "metadata": {},
   "outputs": [
    {
     "data": {
      "text/plain": [
       "1.0"
      ]
     },
     "execution_count": 159,
     "metadata": {},
     "output_type": "execute_result"
    }
   ],
   "source": [
    "accuracy_score(y_test,y_pred_dt)"
   ]
  },
  {
   "cell_type": "code",
   "execution_count": 160,
   "id": "8dced217",
   "metadata": {},
   "outputs": [],
   "source": [
    "# for decission tree also accuracy is 1"
   ]
  },
  {
   "cell_type": "code",
   "execution_count": 161,
   "id": "e3f146b2",
   "metadata": {},
   "outputs": [],
   "source": [
    "# checking accuracy in decission tree with scaled data"
   ]
  },
  {
   "cell_type": "code",
   "execution_count": 162,
   "id": "cfe2c989",
   "metadata": {},
   "outputs": [],
   "source": [
    "X=iris_data1.drop(['Classification'],axis=1)\n",
    "y=iris_data1['Classification']"
   ]
  },
  {
   "cell_type": "code",
   "execution_count": 163,
   "id": "b91b77b5",
   "metadata": {},
   "outputs": [],
   "source": [
    "X_train,X_test,y_train,y_test = train_test_split(X,y,test_size=0.2,random_state=42)"
   ]
  },
  {
   "cell_type": "code",
   "execution_count": 164,
   "id": "8cd298af",
   "metadata": {},
   "outputs": [],
   "source": [
    "dt_clf1 = DecisionTreeClassifier()\n",
    "dt_clf1 = dt_clf1.fit(X_train,y_train)\n",
    "y_pred_dt1 = dt_clf1.predict(X_test)"
   ]
  },
  {
   "cell_type": "code",
   "execution_count": 165,
   "id": "df9e6a55",
   "metadata": {},
   "outputs": [
    {
     "data": {
      "text/plain": [
       "array([[10,  0,  0],\n",
       "       [ 0,  9,  0],\n",
       "       [ 0,  0, 11]], dtype=int64)"
      ]
     },
     "execution_count": 165,
     "metadata": {},
     "output_type": "execute_result"
    }
   ],
   "source": [
    "confusion_matrix(y_test,y_pred_dt1)"
   ]
  },
  {
   "cell_type": "code",
   "execution_count": 166,
   "id": "9bc227de",
   "metadata": {},
   "outputs": [
    {
     "data": {
      "text/plain": [
       "1.0"
      ]
     },
     "execution_count": 166,
     "metadata": {},
     "output_type": "execute_result"
    }
   ],
   "source": [
    "accuracy_score(y_test,y_pred_dt1)"
   ]
  },
  {
   "cell_type": "markdown",
   "id": "1c9b9740",
   "metadata": {},
   "source": [
    "# random forest  - Model 5"
   ]
  },
  {
   "cell_type": "code",
   "execution_count": null,
   "id": "e159d675",
   "metadata": {},
   "outputs": [],
   "source": []
  },
  {
   "cell_type": "code",
   "execution_count": 167,
   "id": "01807fa9",
   "metadata": {},
   "outputs": [],
   "source": [
    "from sklearn.ensemble import RandomForestClassifier"
   ]
  },
  {
   "cell_type": "code",
   "execution_count": 168,
   "id": "be82e5ed",
   "metadata": {},
   "outputs": [],
   "source": [
    "X = iris_data.drop('Classification',axis=1)\n",
    "y = iris_data['Classification']"
   ]
  },
  {
   "cell_type": "code",
   "execution_count": 169,
   "id": "a4d86648",
   "metadata": {},
   "outputs": [],
   "source": [
    "X_train,X_test,y_train,y_test = train_test_split(X,y,test_size=0.2,random_state=42)"
   ]
  },
  {
   "cell_type": "code",
   "execution_count": 170,
   "id": "0ed88dc7",
   "metadata": {},
   "outputs": [],
   "source": [
    "rf_clf = RandomForestClassifier()\n",
    "rf_clf = rf_clf.fit(X_train,y_train)\n",
    "y_pred_rf = rf_clf.predict(X_test)"
   ]
  },
  {
   "cell_type": "code",
   "execution_count": 171,
   "id": "a6a211e7",
   "metadata": {},
   "outputs": [
    {
     "data": {
      "text/plain": [
       "array([[10,  0,  0],\n",
       "       [ 0,  9,  0],\n",
       "       [ 0,  0, 11]], dtype=int64)"
      ]
     },
     "execution_count": 171,
     "metadata": {},
     "output_type": "execute_result"
    }
   ],
   "source": [
    "confusion_matrix(y_test,y_pred_rf)"
   ]
  },
  {
   "cell_type": "code",
   "execution_count": 172,
   "id": "a4d031e9",
   "metadata": {},
   "outputs": [
    {
     "data": {
      "text/plain": [
       "1.0"
      ]
     },
     "execution_count": 172,
     "metadata": {},
     "output_type": "execute_result"
    }
   ],
   "source": [
    "accuracy_score(y_test,y_pred_rf)"
   ]
  },
  {
   "cell_type": "code",
   "execution_count": 173,
   "id": "8e130a32",
   "metadata": {},
   "outputs": [],
   "source": [
    "X=iris_data1.drop(['Classification'],axis=1)\n",
    "y=iris_data1['Classification']"
   ]
  },
  {
   "cell_type": "code",
   "execution_count": 174,
   "id": "df892694",
   "metadata": {},
   "outputs": [],
   "source": [
    "X_train,X_test,y_train,y_test = train_test_split(X,y,test_size=0.2,random_state=42)"
   ]
  },
  {
   "cell_type": "code",
   "execution_count": 175,
   "id": "787d44ba",
   "metadata": {},
   "outputs": [],
   "source": [
    "rf_clf1 = RandomForestClassifier()\n",
    "rf_clf = rf_clf1.fit(X_train,y_train)\n",
    "y_pred_rf1 = rf_clf1.predict(X_test)"
   ]
  },
  {
   "cell_type": "code",
   "execution_count": 176,
   "id": "3c4984ea",
   "metadata": {},
   "outputs": [
    {
     "data": {
      "text/plain": [
       "array([[10,  0,  0],\n",
       "       [ 0,  9,  0],\n",
       "       [ 0,  0, 11]], dtype=int64)"
      ]
     },
     "execution_count": 176,
     "metadata": {},
     "output_type": "execute_result"
    }
   ],
   "source": [
    "confusion_matrix(y_test,y_pred_rf1)"
   ]
  },
  {
   "cell_type": "code",
   "execution_count": 177,
   "id": "f2596edb",
   "metadata": {},
   "outputs": [
    {
     "data": {
      "text/plain": [
       "1.0"
      ]
     },
     "execution_count": 177,
     "metadata": {},
     "output_type": "execute_result"
    }
   ],
   "source": [
    "accuracy_score(y_test,y_pred_rf1)"
   ]
  },
  {
   "cell_type": "code",
   "execution_count": 178,
   "id": "27d04ece",
   "metadata": {},
   "outputs": [],
   "source": [
    "# accuracy is 1 for random forest"
   ]
  },
  {
   "cell_type": "code",
   "execution_count": null,
   "id": "91986178",
   "metadata": {},
   "outputs": [],
   "source": [
    "# Finding - All the models have acuuracy 1 other than KNN model which has a frequency 0.9666667.\n",
    "# so we can accept all the models except KNN\n",
    "#scaling also doesn't make any diffrence in KNN accuracy too"
   ]
  }
 ],
 "metadata": {
  "kernelspec": {
   "display_name": "Python 3 (ipykernel)",
   "language": "python",
   "name": "python3"
  },
  "language_info": {
   "codemirror_mode": {
    "name": "ipython",
    "version": 3
   },
   "file_extension": ".py",
   "mimetype": "text/x-python",
   "name": "python",
   "nbconvert_exporter": "python",
   "pygments_lexer": "ipython3",
   "version": "3.9.12"
  }
 },
 "nbformat": 4,
 "nbformat_minor": 5
}
